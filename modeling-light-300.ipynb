{
 "cells": [
  {
   "cell_type": "code",
   "execution_count": 1,
   "id": "c84d56bd",
   "metadata": {
    "_cell_guid": "b1076dfc-b9ad-4769-8c92-a6c4dae69d19",
    "_uuid": "8f2839f25d086af736a60e9eeb907d3b93b6e0e5",
    "execution": {
     "iopub.execute_input": "2022-01-26T11:12:35.909802Z",
     "iopub.status.busy": "2022-01-26T11:12:35.909046Z",
     "iopub.status.idle": "2022-01-26T11:12:35.921952Z",
     "shell.execute_reply": "2022-01-26T11:12:35.922335Z",
     "shell.execute_reply.started": "2022-01-25T18:59:32.678346Z"
    },
    "papermill": {
     "duration": 0.043666,
     "end_time": "2022-01-26T11:12:35.922556",
     "exception": false,
     "start_time": "2022-01-26T11:12:35.878890",
     "status": "completed"
    },
    "tags": []
   },
   "outputs": [
    {
     "name": "stdout",
     "output_type": "stream",
     "text": [
      "/kaggle/input/data-300-light/data300_light.csv\n"
     ]
    }
   ],
   "source": [
    "# This Python 3 environment comes with many helpful analytics libraries installed\n",
    "# It is defined by the kaggle/python Docker image: https://github.com/kaggle/docker-python\n",
    "# For example, here's several helpful packages to load\n",
    "\n",
    "import numpy as np # linear algebra\n",
    "import pandas as pd # data processing, CSV file I/O (e.g. pd.read_csv)\n",
    "\n",
    "# Input data files are available in the read-only \"../input/\" directory\n",
    "# For example, running this (by clicking run or pressing Shift+Enter) will list all files under the input directory\n",
    "\n",
    "import os\n",
    "for dirname, _, filenames in os.walk('/kaggle/input'):\n",
    "    for filename in filenames:\n",
    "        print(os.path.join(dirname, filename))\n",
    "\n",
    "# You can write up to 20GB to the current directory (/kaggle/working/) that gets preserved as output when you create a version using \"Save & Run All\" \n",
    "# You can also write temporary files to /kaggle/temp/, but they won't be saved outside of the current session"
   ]
  },
  {
   "cell_type": "code",
   "execution_count": 2,
   "id": "8242528b",
   "metadata": {
    "execution": {
     "iopub.execute_input": "2022-01-26T11:12:35.940274Z",
     "iopub.status.busy": "2022-01-26T11:12:35.938286Z",
     "iopub.status.idle": "2022-01-26T11:12:38.624384Z",
     "shell.execute_reply": "2022-01-26T11:12:38.623679Z",
     "shell.execute_reply.started": "2022-01-25T18:59:32.691836Z"
    },
    "papermill": {
     "duration": 2.694461,
     "end_time": "2022-01-26T11:12:38.624511",
     "exception": false,
     "start_time": "2022-01-26T11:12:35.930050",
     "status": "completed"
    },
    "tags": []
   },
   "outputs": [],
   "source": [
    "#Create df\n",
    "df=pd.read_csv('/kaggle/input/data-300-light/data300_light.csv')"
   ]
  },
  {
   "cell_type": "code",
   "execution_count": 3,
   "id": "5955a727",
   "metadata": {
    "execution": {
     "iopub.execute_input": "2022-01-26T11:12:38.820319Z",
     "iopub.status.busy": "2022-01-26T11:12:38.800020Z",
     "iopub.status.idle": "2022-01-26T11:12:58.959576Z",
     "shell.execute_reply": "2022-01-26T11:12:58.959101Z",
     "shell.execute_reply.started": "2022-01-25T18:59:33.659768Z"
    },
    "papermill": {
     "duration": 20.327972,
     "end_time": "2022-01-26T11:12:58.959729",
     "exception": false,
     "start_time": "2022-01-26T11:12:38.631757",
     "status": "completed"
    },
    "tags": []
   },
   "outputs": [],
   "source": [
    "#Columns with words\n",
    "new_columns=df.columns.tolist()[-300:] \n",
    "new_df=df\n",
    "#Creating input data\n",
    "input_data=[]\n",
    "for line in new_df[new_columns].values.tolist():\n",
    "    #Find max value in each line and divire all frequencies on this value\n",
    "    if max(line)!=0: \n",
    "        norm_line=[x/max(line) for x in line]\n",
    "    else:\n",
    "        norm_line=line\n",
    "        #Fill input data\n",
    "    input_data.append(norm_line)\n",
    "\n",
    "input_data=np.array(input_data)\n",
    "output_data=np.array(new_df['preferences'].values.tolist())\n"
   ]
  },
  {
   "cell_type": "code",
   "execution_count": 4,
   "id": "b270b4ea",
   "metadata": {
    "execution": {
     "iopub.execute_input": "2022-01-26T11:12:58.979194Z",
     "iopub.status.busy": "2022-01-26T11:12:58.978415Z",
     "iopub.status.idle": "2022-01-26T11:12:58.982526Z",
     "shell.execute_reply": "2022-01-26T11:12:58.982091Z",
     "shell.execute_reply.started": "2022-01-25T18:59:53.796607Z"
    },
    "papermill": {
     "duration": 0.016085,
     "end_time": "2022-01-26T11:12:58.982641",
     "exception": false,
     "start_time": "2022-01-26T11:12:58.966556",
     "status": "completed"
    },
    "tags": []
   },
   "outputs": [
    {
     "name": "stdout",
     "output_type": "stream",
     "text": [
      "13108\n",
      "13108\n",
      "[[0.68       0.752      0.52       ... 0.008      0.016      0.        ]\n",
      " [0.15189873 0.39556962 0.21202532 ... 0.         0.00632911 0.01265823]\n",
      " [0.05263158 0.29149798 0.1194332  ... 0.         0.00809717 0.        ]\n",
      " ...\n",
      " [0.87012987 1.         0.18181818 ... 0.         0.03896104 0.        ]\n",
      " [0.06145251 0.13687151 0.11452514 ... 0.         0.         0.        ]\n",
      " [0.11111111 1.         0.33333333 ... 0.         0.24444444 0.        ]]\n",
      "[0.98180586 0.93547068 0.84612257 0.99415842 0.98447976 0.97111457\n",
      " 0.97140684 0.99036453 0.97151293 0.97938144]\n"
     ]
    }
   ],
   "source": [
    "#Few tests\n",
    "print(len(output_data))\n",
    "print(len(input_data))\n",
    "print(input_data[:10])\n",
    "print(output_data[:10])"
   ]
  },
  {
   "cell_type": "code",
   "execution_count": 5,
   "id": "972a4698",
   "metadata": {
    "execution": {
     "iopub.execute_input": "2022-01-26T11:12:59.002453Z",
     "iopub.status.busy": "2022-01-26T11:12:59.001951Z",
     "iopub.status.idle": "2022-01-26T11:56:29.226285Z",
     "shell.execute_reply": "2022-01-26T11:56:29.225762Z",
     "shell.execute_reply.started": "2022-01-25T18:59:53.808785Z"
    },
    "papermill": {
     "duration": 2610.236327,
     "end_time": "2022-01-26T11:56:29.226427",
     "exception": false,
     "start_time": "2022-01-26T11:12:58.990100",
     "status": "completed"
    },
    "tags": []
   },
   "outputs": [
    {
     "name": "stderr",
     "output_type": "stream",
     "text": [
      "2022-01-26 11:13:03.519724: I tensorflow/stream_executor/cuda/cuda_gpu_executor.cc:937] successful NUMA node read from SysFS had negative value (-1), but there must be at least one NUMA node, so returning NUMA node zero\n",
      "2022-01-26 11:13:03.639795: I tensorflow/stream_executor/cuda/cuda_gpu_executor.cc:937] successful NUMA node read from SysFS had negative value (-1), but there must be at least one NUMA node, so returning NUMA node zero\n",
      "2022-01-26 11:13:03.640477: I tensorflow/stream_executor/cuda/cuda_gpu_executor.cc:937] successful NUMA node read from SysFS had negative value (-1), but there must be at least one NUMA node, so returning NUMA node zero\n",
      "2022-01-26 11:13:03.641552: I tensorflow/core/platform/cpu_feature_guard.cc:142] This TensorFlow binary is optimized with oneAPI Deep Neural Network Library (oneDNN) to use the following CPU instructions in performance-critical operations:  AVX2 AVX512F FMA\n",
      "To enable them in other operations, rebuild TensorFlow with the appropriate compiler flags.\n",
      "2022-01-26 11:13:03.642477: I tensorflow/stream_executor/cuda/cuda_gpu_executor.cc:937] successful NUMA node read from SysFS had negative value (-1), but there must be at least one NUMA node, so returning NUMA node zero\n",
      "2022-01-26 11:13:03.643133: I tensorflow/stream_executor/cuda/cuda_gpu_executor.cc:937] successful NUMA node read from SysFS had negative value (-1), but there must be at least one NUMA node, so returning NUMA node zero\n",
      "2022-01-26 11:13:03.643736: I tensorflow/stream_executor/cuda/cuda_gpu_executor.cc:937] successful NUMA node read from SysFS had negative value (-1), but there must be at least one NUMA node, so returning NUMA node zero\n",
      "2022-01-26 11:13:05.846009: I tensorflow/stream_executor/cuda/cuda_gpu_executor.cc:937] successful NUMA node read from SysFS had negative value (-1), but there must be at least one NUMA node, so returning NUMA node zero\n",
      "2022-01-26 11:13:05.846806: I tensorflow/stream_executor/cuda/cuda_gpu_executor.cc:937] successful NUMA node read from SysFS had negative value (-1), but there must be at least one NUMA node, so returning NUMA node zero\n",
      "2022-01-26 11:13:05.847435: I tensorflow/stream_executor/cuda/cuda_gpu_executor.cc:937] successful NUMA node read from SysFS had negative value (-1), but there must be at least one NUMA node, so returning NUMA node zero\n",
      "2022-01-26 11:13:05.848030: I tensorflow/core/common_runtime/gpu/gpu_device.cc:1510] Created device /job:localhost/replica:0/task:0/device:GPU:0 with 15403 MB memory:  -> device: 0, name: Tesla P100-PCIE-16GB, pci bus id: 0000:00:04.0, compute capability: 6.0\n",
      "2022-01-26 11:13:06.266288: I tensorflow/compiler/mlir/mlir_graph_optimization_pass.cc:185] None of the MLIR Optimization Passes are enabled (registered 2)\n"
     ]
    },
    {
     "name": "stdout",
     "output_type": "stream",
     "text": [
      "Epoch 1/120\n",
      "12976/12976 [==============================] - 22s 2ms/step - loss: 0.0029 - accuracy: 0.0000e+00 - val_loss: 8.5877e-04 - val_accuracy: 0.0000e+00\n",
      "Epoch 2/120\n",
      "12976/12976 [==============================] - 21s 2ms/step - loss: 0.0014 - accuracy: 0.0000e+00 - val_loss: 3.3480e-04 - val_accuracy: 0.0000e+00\n",
      "Epoch 3/120\n",
      "12976/12976 [==============================] - 21s 2ms/step - loss: 8.3882e-04 - accuracy: 0.0000e+00 - val_loss: 2.5726e-04 - val_accuracy: 0.0000e+00\n",
      "Epoch 4/120\n",
      "12976/12976 [==============================] - 21s 2ms/step - loss: 5.8274e-04 - accuracy: 0.0000e+00 - val_loss: 2.8272e-04 - val_accuracy: 0.0000e+00\n",
      "Epoch 5/120\n",
      "12976/12976 [==============================] - 20s 2ms/step - loss: 4.6029e-04 - accuracy: 0.0000e+00 - val_loss: 1.6883e-04 - val_accuracy: 0.0000e+00\n",
      "Epoch 6/120\n",
      "12976/12976 [==============================] - 21s 2ms/step - loss: 4.2138e-04 - accuracy: 0.0000e+00 - val_loss: 3.2722e-04 - val_accuracy: 0.0000e+00\n",
      "Epoch 7/120\n",
      "12976/12976 [==============================] - 21s 2ms/step - loss: 3.6650e-04 - accuracy: 0.0000e+00 - val_loss: 1.1586e-04 - val_accuracy: 0.0000e+00\n",
      "Epoch 8/120\n",
      "12976/12976 [==============================] - 20s 2ms/step - loss: 3.4198e-04 - accuracy: 0.0000e+00 - val_loss: 3.9234e-04 - val_accuracy: 0.0000e+00\n",
      "Epoch 9/120\n",
      "12976/12976 [==============================] - 21s 2ms/step - loss: 3.4356e-04 - accuracy: 0.0000e+00 - val_loss: 8.9091e-05 - val_accuracy: 0.0000e+00\n",
      "Epoch 10/120\n",
      "12976/12976 [==============================] - 21s 2ms/step - loss: 3.0351e-04 - accuracy: 0.0000e+00 - val_loss: 1.2985e-04 - val_accuracy: 0.0000e+00\n",
      "Epoch 11/120\n",
      "12976/12976 [==============================] - 21s 2ms/step - loss: 2.9085e-04 - accuracy: 0.0000e+00 - val_loss: 1.5497e-04 - val_accuracy: 0.0000e+00\n",
      "Epoch 12/120\n",
      "12976/12976 [==============================] - 21s 2ms/step - loss: 2.7594e-04 - accuracy: 0.0000e+00 - val_loss: 1.0703e-04 - val_accuracy: 0.0000e+00\n",
      "Epoch 13/120\n",
      "12976/12976 [==============================] - 20s 2ms/step - loss: 2.6405e-04 - accuracy: 0.0000e+00 - val_loss: 1.1521e-04 - val_accuracy: 0.0000e+00\n",
      "Epoch 14/120\n",
      "12976/12976 [==============================] - 21s 2ms/step - loss: 2.7043e-04 - accuracy: 0.0000e+00 - val_loss: 1.4267e-04 - val_accuracy: 0.0000e+00\n",
      "Epoch 15/120\n",
      "12976/12976 [==============================] - 22s 2ms/step - loss: 2.3961e-04 - accuracy: 0.0000e+00 - val_loss: 1.0280e-04 - val_accuracy: 0.0000e+00\n",
      "Epoch 16/120\n",
      "12976/12976 [==============================] - 20s 2ms/step - loss: 2.2561e-04 - accuracy: 0.0000e+00 - val_loss: 1.1656e-04 - val_accuracy: 0.0000e+00\n",
      "Epoch 17/120\n",
      "12976/12976 [==============================] - 22s 2ms/step - loss: 2.2306e-04 - accuracy: 0.0000e+00 - val_loss: 1.3453e-04 - val_accuracy: 0.0000e+00\n",
      "Epoch 18/120\n",
      "12976/12976 [==============================] - 22s 2ms/step - loss: 2.1294e-04 - accuracy: 0.0000e+00 - val_loss: 9.8240e-05 - val_accuracy: 0.0000e+00\n",
      "Epoch 19/120\n",
      "12976/12976 [==============================] - 20s 2ms/step - loss: 2.0535e-04 - accuracy: 0.0000e+00 - val_loss: 8.6245e-05 - val_accuracy: 0.0000e+00\n",
      "Epoch 20/120\n",
      "12976/12976 [==============================] - 22s 2ms/step - loss: 2.1015e-04 - accuracy: 0.0000e+00 - val_loss: 6.9179e-05 - val_accuracy: 0.0000e+00\n",
      "Epoch 21/120\n",
      "12976/12976 [==============================] - 21s 2ms/step - loss: 2.0810e-04 - accuracy: 0.0000e+00 - val_loss: 6.0769e-05 - val_accuracy: 0.0000e+00\n",
      "Epoch 22/120\n",
      "12976/12976 [==============================] - 21s 2ms/step - loss: 2.0023e-04 - accuracy: 0.0000e+00 - val_loss: 1.4768e-04 - val_accuracy: 0.0000e+00\n",
      "Epoch 23/120\n",
      "12976/12976 [==============================] - 22s 2ms/step - loss: 1.9956e-04 - accuracy: 0.0000e+00 - val_loss: 6.2646e-05 - val_accuracy: 0.0000e+00\n",
      "Epoch 24/120\n",
      "12976/12976 [==============================] - 21s 2ms/step - loss: 1.9264e-04 - accuracy: 0.0000e+00 - val_loss: 6.9368e-05 - val_accuracy: 0.0000e+00\n",
      "Epoch 25/120\n",
      "12976/12976 [==============================] - 22s 2ms/step - loss: 1.8585e-04 - accuracy: 0.0000e+00 - val_loss: 1.3961e-04 - val_accuracy: 0.0000e+00\n",
      "Epoch 26/120\n",
      "12976/12976 [==============================] - 21s 2ms/step - loss: 1.8047e-04 - accuracy: 0.0000e+00 - val_loss: 1.2710e-04 - val_accuracy: 0.0000e+00\n",
      "Epoch 27/120\n",
      "12976/12976 [==============================] - 22s 2ms/step - loss: 1.8586e-04 - accuracy: 0.0000e+00 - val_loss: 8.2189e-05 - val_accuracy: 0.0000e+00\n",
      "Epoch 28/120\n",
      "12976/12976 [==============================] - 22s 2ms/step - loss: 1.7172e-04 - accuracy: 0.0000e+00 - val_loss: 5.8548e-05 - val_accuracy: 0.0000e+00\n",
      "Epoch 29/120\n",
      "12976/12976 [==============================] - 21s 2ms/step - loss: 1.6313e-04 - accuracy: 0.0000e+00 - val_loss: 6.2520e-05 - val_accuracy: 0.0000e+00\n",
      "Epoch 30/120\n",
      "12976/12976 [==============================] - 22s 2ms/step - loss: 1.7663e-04 - accuracy: 0.0000e+00 - val_loss: 1.1729e-04 - val_accuracy: 0.0000e+00\n",
      "Epoch 31/120\n",
      "12976/12976 [==============================] - 21s 2ms/step - loss: 1.5772e-04 - accuracy: 0.0000e+00 - val_loss: 5.9236e-05 - val_accuracy: 0.0000e+00\n",
      "Epoch 32/120\n",
      "12976/12976 [==============================] - 23s 2ms/step - loss: 1.5909e-04 - accuracy: 0.0000e+00 - val_loss: 8.3994e-05 - val_accuracy: 0.0000e+00\n",
      "Epoch 33/120\n",
      "12976/12976 [==============================] - 22s 2ms/step - loss: 1.5963e-04 - accuracy: 0.0000e+00 - val_loss: 5.3815e-05 - val_accuracy: 0.0000e+00\n",
      "Epoch 34/120\n",
      "12976/12976 [==============================] - 21s 2ms/step - loss: 1.5894e-04 - accuracy: 0.0000e+00 - val_loss: 6.5990e-05 - val_accuracy: 0.0000e+00\n",
      "Epoch 35/120\n",
      "12976/12976 [==============================] - 21s 2ms/step - loss: 1.5651e-04 - accuracy: 0.0000e+00 - val_loss: 5.1010e-05 - val_accuracy: 0.0000e+00\n",
      "Epoch 36/120\n",
      "12976/12976 [==============================] - 20s 2ms/step - loss: 1.3868e-04 - accuracy: 0.0000e+00 - val_loss: 5.1593e-05 - val_accuracy: 0.0000e+00\n",
      "Epoch 37/120\n",
      "12976/12976 [==============================] - 22s 2ms/step - loss: 1.5378e-04 - accuracy: 0.0000e+00 - val_loss: 3.6971e-05 - val_accuracy: 0.0000e+00\n",
      "Epoch 38/120\n",
      "12976/12976 [==============================] - 21s 2ms/step - loss: 1.4022e-04 - accuracy: 0.0000e+00 - val_loss: 4.9118e-05 - val_accuracy: 0.0000e+00\n",
      "Epoch 39/120\n",
      "12976/12976 [==============================] - 20s 2ms/step - loss: 1.4034e-04 - accuracy: 0.0000e+00 - val_loss: 4.8154e-05 - val_accuracy: 0.0000e+00\n",
      "Epoch 40/120\n",
      "12976/12976 [==============================] - 23s 2ms/step - loss: 1.4239e-04 - accuracy: 0.0000e+00 - val_loss: 7.0227e-05 - val_accuracy: 0.0000e+00\n",
      "Epoch 41/120\n",
      "12976/12976 [==============================] - 21s 2ms/step - loss: 1.3938e-04 - accuracy: 0.0000e+00 - val_loss: 6.8925e-05 - val_accuracy: 0.0000e+00\n",
      "Epoch 42/120\n",
      "12976/12976 [==============================] - 20s 2ms/step - loss: 1.3797e-04 - accuracy: 0.0000e+00 - val_loss: 4.1790e-05 - val_accuracy: 0.0000e+00\n",
      "Epoch 43/120\n",
      "12976/12976 [==============================] - 23s 2ms/step - loss: 1.3413e-04 - accuracy: 0.0000e+00 - val_loss: 6.1655e-05 - val_accuracy: 0.0000e+00\n",
      "Epoch 44/120\n",
      "12976/12976 [==============================] - 20s 2ms/step - loss: 1.3356e-04 - accuracy: 0.0000e+00 - val_loss: 4.2116e-05 - val_accuracy: 0.0000e+00\n",
      "Epoch 45/120\n",
      "12976/12976 [==============================] - 20s 2ms/step - loss: 1.4320e-04 - accuracy: 0.0000e+00 - val_loss: 8.0572e-05 - val_accuracy: 0.0000e+00\n",
      "Epoch 46/120\n",
      "12976/12976 [==============================] - 23s 2ms/step - loss: 1.2510e-04 - accuracy: 0.0000e+00 - val_loss: 3.8415e-05 - val_accuracy: 0.0000e+00\n",
      "Epoch 47/120\n",
      "12976/12976 [==============================] - 22s 2ms/step - loss: 1.3670e-04 - accuracy: 0.0000e+00 - val_loss: 4.2596e-05 - val_accuracy: 0.0000e+00\n",
      "Epoch 48/120\n",
      "12976/12976 [==============================] - 21s 2ms/step - loss: 1.2769e-04 - accuracy: 0.0000e+00 - val_loss: 3.9746e-05 - val_accuracy: 0.0000e+00\n",
      "Epoch 49/120\n",
      "12976/12976 [==============================] - 21s 2ms/step - loss: 1.3014e-04 - accuracy: 0.0000e+00 - val_loss: 5.9853e-05 - val_accuracy: 0.0000e+00\n",
      "Epoch 50/120\n",
      "12976/12976 [==============================] - 23s 2ms/step - loss: 1.2253e-04 - accuracy: 0.0000e+00 - val_loss: 4.4452e-05 - val_accuracy: 0.0000e+00\n",
      "Epoch 51/120\n",
      "12976/12976 [==============================] - 21s 2ms/step - loss: 1.3510e-04 - accuracy: 0.0000e+00 - val_loss: 4.3829e-05 - val_accuracy: 0.0000e+00\n",
      "Epoch 52/120\n",
      "12976/12976 [==============================] - 21s 2ms/step - loss: 1.2262e-04 - accuracy: 0.0000e+00 - val_loss: 5.4445e-05 - val_accuracy: 0.0000e+00\n",
      "Epoch 53/120\n",
      "12976/12976 [==============================] - 24s 2ms/step - loss: 1.2681e-04 - accuracy: 0.0000e+00 - val_loss: 3.9296e-05 - val_accuracy: 0.0000e+00\n",
      "Epoch 54/120\n",
      "12976/12976 [==============================] - 20s 2ms/step - loss: 1.2608e-04 - accuracy: 0.0000e+00 - val_loss: 4.2264e-05 - val_accuracy: 0.0000e+00\n",
      "Epoch 55/120\n",
      "12976/12976 [==============================] - 21s 2ms/step - loss: 1.2128e-04 - accuracy: 0.0000e+00 - val_loss: 3.5921e-05 - val_accuracy: 0.0000e+00\n",
      "Epoch 56/120\n",
      "12976/12976 [==============================] - 22s 2ms/step - loss: 1.2501e-04 - accuracy: 0.0000e+00 - val_loss: 5.1895e-05 - val_accuracy: 0.0000e+00\n",
      "Epoch 57/120\n",
      "12976/12976 [==============================] - 22s 2ms/step - loss: 1.2739e-04 - accuracy: 0.0000e+00 - val_loss: 3.7904e-05 - val_accuracy: 0.0000e+00\n",
      "Epoch 58/120\n",
      "12976/12976 [==============================] - 21s 2ms/step - loss: 1.1549e-04 - accuracy: 0.0000e+00 - val_loss: 3.6738e-05 - val_accuracy: 0.0000e+00\n",
      "Epoch 59/120\n",
      "12976/12976 [==============================] - 20s 2ms/step - loss: 1.2850e-04 - accuracy: 0.0000e+00 - val_loss: 1.1106e-04 - val_accuracy: 0.0000e+00\n",
      "Epoch 60/120\n",
      "12976/12976 [==============================] - 25s 2ms/step - loss: 1.1198e-04 - accuracy: 0.0000e+00 - val_loss: 3.4805e-05 - val_accuracy: 0.0000e+00\n",
      "Epoch 61/120\n",
      "12976/12976 [==============================] - 21s 2ms/step - loss: 1.1526e-04 - accuracy: 0.0000e+00 - val_loss: 3.9420e-05 - val_accuracy: 0.0000e+00\n",
      "Epoch 62/120\n",
      "12976/12976 [==============================] - 20s 2ms/step - loss: 1.1708e-04 - accuracy: 0.0000e+00 - val_loss: 3.5873e-05 - val_accuracy: 0.0000e+00\n",
      "Epoch 63/120\n",
      "12976/12976 [==============================] - 24s 2ms/step - loss: 1.1224e-04 - accuracy: 0.0000e+00 - val_loss: 4.8909e-05 - val_accuracy: 0.0000e+00\n",
      "Epoch 64/120\n",
      "12976/12976 [==============================] - 21s 2ms/step - loss: 1.1496e-04 - accuracy: 0.0000e+00 - val_loss: 4.0957e-05 - val_accuracy: 0.0000e+00\n",
      "Epoch 65/120\n",
      "12976/12976 [==============================] - 20s 2ms/step - loss: 1.1437e-04 - accuracy: 0.0000e+00 - val_loss: 3.3152e-05 - val_accuracy: 0.0000e+00\n",
      "Epoch 66/120\n",
      "12976/12976 [==============================] - 21s 2ms/step - loss: 1.0947e-04 - accuracy: 0.0000e+00 - val_loss: 3.9901e-05 - val_accuracy: 0.0000e+00\n",
      "Epoch 67/120\n",
      "12976/12976 [==============================] - 24s 2ms/step - loss: 1.1085e-04 - accuracy: 0.0000e+00 - val_loss: 3.5625e-05 - val_accuracy: 0.0000e+00\n",
      "Epoch 68/120\n",
      "12976/12976 [==============================] - 20s 2ms/step - loss: 1.0474e-04 - accuracy: 0.0000e+00 - val_loss: 4.6972e-05 - val_accuracy: 0.0000e+00\n",
      "Epoch 69/120\n",
      "12976/12976 [==============================] - 21s 2ms/step - loss: 1.1035e-04 - accuracy: 0.0000e+00 - val_loss: 5.3282e-05 - val_accuracy: 0.0000e+00\n",
      "Epoch 70/120\n",
      "12976/12976 [==============================] - 25s 2ms/step - loss: 1.0634e-04 - accuracy: 0.0000e+00 - val_loss: 3.1106e-05 - val_accuracy: 0.0000e+00\n",
      "Epoch 71/120\n",
      "12976/12976 [==============================] - 20s 2ms/step - loss: 1.0932e-04 - accuracy: 0.0000e+00 - val_loss: 3.0776e-05 - val_accuracy: 0.0000e+00\n",
      "Epoch 72/120\n",
      "12976/12976 [==============================] - 21s 2ms/step - loss: 1.0668e-04 - accuracy: 0.0000e+00 - val_loss: 4.6199e-05 - val_accuracy: 0.0000e+00\n",
      "Epoch 73/120\n",
      "12976/12976 [==============================] - 21s 2ms/step - loss: 1.0526e-04 - accuracy: 0.0000e+00 - val_loss: 3.2306e-05 - val_accuracy: 0.0000e+00\n",
      "Epoch 74/120\n",
      "12976/12976 [==============================] - 20s 2ms/step - loss: 1.0037e-04 - accuracy: 0.0000e+00 - val_loss: 3.2693e-05 - val_accuracy: 0.0000e+00\n",
      "Epoch 75/120\n",
      "12976/12976 [==============================] - 21s 2ms/step - loss: 1.0474e-04 - accuracy: 0.0000e+00 - val_loss: 4.3289e-05 - val_accuracy: 0.0000e+00\n",
      "Epoch 76/120\n",
      "12976/12976 [==============================] - 23s 2ms/step - loss: 1.0890e-04 - accuracy: 0.0000e+00 - val_loss: 3.7119e-05 - val_accuracy: 0.0000e+00\n",
      "Epoch 77/120\n",
      "12976/12976 [==============================] - 23s 2ms/step - loss: 1.0477e-04 - accuracy: 0.0000e+00 - val_loss: 5.0625e-05 - val_accuracy: 0.0000e+00\n",
      "Epoch 78/120\n",
      "12976/12976 [==============================] - 20s 2ms/step - loss: 1.0460e-04 - accuracy: 0.0000e+00 - val_loss: 3.6498e-05 - val_accuracy: 0.0000e+00\n",
      "Epoch 79/120\n",
      "12976/12976 [==============================] - 20s 2ms/step - loss: 1.0326e-04 - accuracy: 0.0000e+00 - val_loss: 4.5699e-05 - val_accuracy: 0.0000e+00\n",
      "Epoch 80/120\n",
      "12976/12976 [==============================] - 20s 2ms/step - loss: 1.0003e-04 - accuracy: 0.0000e+00 - val_loss: 3.5695e-05 - val_accuracy: 0.0000e+00\n",
      "Epoch 81/120\n",
      "12976/12976 [==============================] - 21s 2ms/step - loss: 1.1033e-04 - accuracy: 0.0000e+00 - val_loss: 7.2007e-05 - val_accuracy: 0.0000e+00\n",
      "Epoch 82/120\n",
      "12976/12976 [==============================] - 21s 2ms/step - loss: 1.0390e-04 - accuracy: 0.0000e+00 - val_loss: 3.6393e-05 - val_accuracy: 0.0000e+00\n",
      "Epoch 83/120\n",
      "12976/12976 [==============================] - 25s 2ms/step - loss: 1.0470e-04 - accuracy: 0.0000e+00 - val_loss: 3.5641e-05 - val_accuracy: 0.0000e+00\n",
      "Epoch 84/120\n",
      "12976/12976 [==============================] - 21s 2ms/step - loss: 1.0466e-04 - accuracy: 0.0000e+00 - val_loss: 3.0518e-05 - val_accuracy: 0.0000e+00\n",
      "Epoch 85/120\n",
      "12976/12976 [==============================] - 21s 2ms/step - loss: 1.0078e-04 - accuracy: 0.0000e+00 - val_loss: 2.8201e-05 - val_accuracy: 0.0000e+00\n",
      "Epoch 86/120\n",
      "12976/12976 [==============================] - 20s 2ms/step - loss: 1.0345e-04 - accuracy: 0.0000e+00 - val_loss: 6.8348e-05 - val_accuracy: 0.0000e+00\n",
      "Epoch 87/120\n",
      "12976/12976 [==============================] - 21s 2ms/step - loss: 1.1121e-04 - accuracy: 0.0000e+00 - val_loss: 4.8885e-05 - val_accuracy: 0.0000e+00\n",
      "Epoch 88/120\n",
      "12976/12976 [==============================] - 21s 2ms/step - loss: 9.7831e-05 - accuracy: 0.0000e+00 - val_loss: 3.2539e-05 - val_accuracy: 0.0000e+00\n",
      "Epoch 89/120\n",
      "12976/12976 [==============================] - 22s 2ms/step - loss: 1.0303e-04 - accuracy: 0.0000e+00 - val_loss: 3.6153e-05 - val_accuracy: 0.0000e+00\n",
      "Epoch 90/120\n",
      "12976/12976 [==============================] - 25s 2ms/step - loss: 9.8635e-05 - accuracy: 0.0000e+00 - val_loss: 3.0660e-05 - val_accuracy: 0.0000e+00\n",
      "Epoch 91/120\n",
      "12976/12976 [==============================] - 21s 2ms/step - loss: 9.9472e-05 - accuracy: 0.0000e+00 - val_loss: 3.2990e-05 - val_accuracy: 0.0000e+00\n",
      "Epoch 92/120\n",
      "12976/12976 [==============================] - 20s 2ms/step - loss: 1.0085e-04 - accuracy: 0.0000e+00 - val_loss: 3.4850e-05 - val_accuracy: 0.0000e+00\n",
      "Epoch 93/120\n",
      "12976/12976 [==============================] - 20s 2ms/step - loss: 1.0259e-04 - accuracy: 0.0000e+00 - val_loss: 5.3592e-05 - val_accuracy: 0.0000e+00\n",
      "Epoch 94/120\n",
      "12976/12976 [==============================] - 20s 2ms/step - loss: 9.8665e-05 - accuracy: 0.0000e+00 - val_loss: 3.0119e-05 - val_accuracy: 0.0000e+00\n",
      "Epoch 95/120\n",
      "12976/12976 [==============================] - 21s 2ms/step - loss: 9.7616e-05 - accuracy: 0.0000e+00 - val_loss: 5.9725e-05 - val_accuracy: 0.0000e+00\n",
      "Epoch 96/120\n",
      "12976/12976 [==============================] - 25s 2ms/step - loss: 1.0396e-04 - accuracy: 0.0000e+00 - val_loss: 3.4001e-05 - val_accuracy: 0.0000e+00\n",
      "Epoch 97/120\n",
      "12976/12976 [==============================] - 22s 2ms/step - loss: 9.8251e-05 - accuracy: 0.0000e+00 - val_loss: 3.7128e-05 - val_accuracy: 0.0000e+00\n",
      "Epoch 98/120\n",
      "12976/12976 [==============================] - 21s 2ms/step - loss: 9.6027e-05 - accuracy: 0.0000e+00 - val_loss: 3.3392e-05 - val_accuracy: 0.0000e+00\n",
      "Epoch 99/120\n",
      "12976/12976 [==============================] - 21s 2ms/step - loss: 1.0360e-04 - accuracy: 0.0000e+00 - val_loss: 3.3748e-05 - val_accuracy: 0.0000e+00\n",
      "Epoch 100/120\n",
      "12976/12976 [==============================] - 20s 2ms/step - loss: 9.8669e-05 - accuracy: 0.0000e+00 - val_loss: 2.7765e-05 - val_accuracy: 0.0000e+00\n",
      "Epoch 101/120\n",
      "12976/12976 [==============================] - 20s 2ms/step - loss: 9.8445e-05 - accuracy: 0.0000e+00 - val_loss: 3.1940e-05 - val_accuracy: 0.0000e+00\n",
      "Epoch 102/120\n",
      "12976/12976 [==============================] - 21s 2ms/step - loss: 9.2222e-05 - accuracy: 0.0000e+00 - val_loss: 2.6614e-05 - val_accuracy: 0.0000e+00\n",
      "Epoch 103/120\n",
      "12976/12976 [==============================] - 27s 2ms/step - loss: 1.0032e-04 - accuracy: 0.0000e+00 - val_loss: 2.7026e-05 - val_accuracy: 0.0000e+00\n",
      "Epoch 104/120\n",
      "12976/12976 [==============================] - 21s 2ms/step - loss: 1.0330e-04 - accuracy: 0.0000e+00 - val_loss: 3.0738e-05 - val_accuracy: 0.0000e+00\n",
      "Epoch 105/120\n",
      "12976/12976 [==============================] - 21s 2ms/step - loss: 9.5614e-05 - accuracy: 0.0000e+00 - val_loss: 4.0760e-05 - val_accuracy: 0.0000e+00\n",
      "Epoch 106/120\n",
      "12976/12976 [==============================] - 20s 2ms/step - loss: 9.1291e-05 - accuracy: 0.0000e+00 - val_loss: 3.5041e-05 - val_accuracy: 0.0000e+00\n",
      "Epoch 107/120\n",
      "12976/12976 [==============================] - 20s 2ms/step - loss: 1.0345e-04 - accuracy: 0.0000e+00 - val_loss: 4.4390e-05 - val_accuracy: 0.0000e+00\n",
      "Epoch 108/120\n",
      "12976/12976 [==============================] - 20s 2ms/step - loss: 1.0172e-04 - accuracy: 0.0000e+00 - val_loss: 4.4739e-05 - val_accuracy: 0.0000e+00\n",
      "Epoch 109/120\n",
      "12976/12976 [==============================] - 23s 2ms/step - loss: 9.6415e-05 - accuracy: 0.0000e+00 - val_loss: 3.4203e-05 - val_accuracy: 0.0000e+00\n",
      "Epoch 110/120\n",
      "12976/12976 [==============================] - 25s 2ms/step - loss: 1.1174e-04 - accuracy: 0.0000e+00 - val_loss: 2.6521e-05 - val_accuracy: 0.0000e+00\n",
      "Epoch 111/120\n",
      "12976/12976 [==============================] - 21s 2ms/step - loss: 9.6709e-05 - accuracy: 0.0000e+00 - val_loss: 2.8896e-05 - val_accuracy: 0.0000e+00\n",
      "Epoch 112/120\n",
      "12976/12976 [==============================] - 20s 2ms/step - loss: 9.3157e-05 - accuracy: 0.0000e+00 - val_loss: 3.3819e-05 - val_accuracy: 0.0000e+00\n",
      "Epoch 113/120\n",
      "12976/12976 [==============================] - 20s 2ms/step - loss: 1.0514e-04 - accuracy: 0.0000e+00 - val_loss: 2.7881e-05 - val_accuracy: 0.0000e+00\n",
      "Epoch 114/120\n",
      "12976/12976 [==============================] - 20s 2ms/step - loss: 9.9534e-05 - accuracy: 0.0000e+00 - val_loss: 3.7765e-05 - val_accuracy: 0.0000e+00\n",
      "Epoch 115/120\n",
      "12976/12976 [==============================] - 21s 2ms/step - loss: 9.5840e-05 - accuracy: 0.0000e+00 - val_loss: 3.0054e-05 - val_accuracy: 0.0000e+00\n",
      "Epoch 116/120\n",
      "12976/12976 [==============================] - 25s 2ms/step - loss: 1.0193e-04 - accuracy: 0.0000e+00 - val_loss: 3.3899e-05 - val_accuracy: 0.0000e+00\n",
      "Epoch 117/120\n",
      "12976/12976 [==============================] - 24s 2ms/step - loss: 1.0344e-04 - accuracy: 0.0000e+00 - val_loss: 3.2706e-05 - val_accuracy: 0.0000e+00\n",
      "Epoch 118/120\n",
      "12976/12976 [==============================] - 20s 2ms/step - loss: 9.5237e-05 - accuracy: 0.0000e+00 - val_loss: 3.2035e-05 - val_accuracy: 0.0000e+00\n",
      "Epoch 119/120\n",
      "12976/12976 [==============================] - 21s 2ms/step - loss: 9.8174e-05 - accuracy: 0.0000e+00 - val_loss: 2.7865e-05 - val_accuracy: 0.0000e+00\n",
      "Epoch 120/120\n",
      "12976/12976 [==============================] - 20s 2ms/step - loss: 9.4430e-05 - accuracy: 0.0000e+00 - val_loss: 4.2201e-05 - val_accuracy: 0.0000e+00\n",
      "Model: \"sequential\"\n",
      "_________________________________________________________________\n",
      "Layer (type)                 Output Shape              Param #   \n",
      "=================================================================\n",
      "dense (Dense)                (1, 6144)                 1849344   \n",
      "_________________________________________________________________\n",
      "dense_1 (Dense)              (1, 1)                    6145      \n",
      "=================================================================\n",
      "Total params: 1,855,489\n",
      "Trainable params: 1,855,489\n",
      "Non-trainable params: 0\n",
      "_________________________________________________________________\n"
     ]
    },
    {
     "name": "stderr",
     "output_type": "stream",
     "text": [
      "2022-01-26 11:56:28.753931: W tensorflow/python/util/util.cc:348] Sets are not currently considered sequences, but this may change in the future, so consider avoiding using them.\n"
     ]
    }
   ],
   "source": [
    "import keras as k\n",
    "#Create simple keras model \n",
    "#Later I create model using GridSearchCV\n",
    "model=k.Sequential()\n",
    "model.add(k.layers.Dense(units=1024*6,activation=\"relu\"))\n",
    "model.add(k.layers.Dense(units=1,activation=\"sigmoid\"))\n",
    "model.compile(loss='mean_squared_error',optimizer='adamax',metrics=['accuracy'])\n",
    "\n",
    "fit_results=model.fit(x=input_data,y=output_data,epochs=120,validation_split=.01,\n",
    "                      batch_size=1\n",
    "                    )\n",
    "model.summary()\n",
    "model.save('model_light_300')"
   ]
  },
  {
   "cell_type": "code",
   "execution_count": 6,
   "id": "7f236825",
   "metadata": {
    "execution": {
     "iopub.execute_input": "2022-01-26T11:56:56.291604Z",
     "iopub.status.busy": "2022-01-26T11:56:56.290715Z",
     "iopub.status.idle": "2022-01-26T11:56:56.496318Z",
     "shell.execute_reply": "2022-01-26T11:56:56.496736Z",
     "shell.execute_reply.started": "2022-01-25T19:00:42.891755Z"
    },
    "papermill": {
     "duration": 13.772109,
     "end_time": "2022-01-26T11:56:56.496885",
     "exception": false,
     "start_time": "2022-01-26T11:56:42.724776",
     "status": "completed"
    },
    "tags": []
   },
   "outputs": [
    {
     "data": {
      "image/png": "[encoded data removed]",
      "text/plain": [
       "<Figure size 432x288 with 1 Axes>"
      ]
     },
     "metadata": {
      "needs_background": "light"
     },
     "output_type": "display_data"
    }
   ],
   "source": [
    "from matplotlib import pyplot as plt\n",
    "plt.title ('Losses train/validation')\n",
    "plt.plot(fit_results.history['loss'],label=\"Train\")\n",
    "plt.plot(fit_results.history['val_loss'],label=\"Validation\")\n",
    "plt.legend()\n",
    "plt.show()"
   ]
  },
  {
   "cell_type": "code",
   "execution_count": 7,
   "id": "5b7087cb",
   "metadata": {
    "execution": {
     "iopub.execute_input": "2022-01-26T11:57:24.164530Z",
     "iopub.status.busy": "2022-01-26T11:57:24.163653Z",
     "iopub.status.idle": "2022-01-26T11:57:24.292442Z",
     "shell.execute_reply": "2022-01-26T11:57:24.292904Z",
     "shell.execute_reply.started": "2022-01-25T19:00:42.893479Z"
    },
    "papermill": {
     "duration": 13.965904,
     "end_time": "2022-01-26T11:57:24.293069",
     "exception": false,
     "start_time": "2022-01-26T11:57:10.327165",
     "status": "completed"
    },
    "tags": []
   },
   "outputs": [
    {
     "name": "stdout",
     "output_type": "stream",
     "text": [
      "reality:0.2355825526932084; forecast:0.2264706790447235;error:4.023423114603489%\n",
      "reality:0.5417972831765935; forecast:0.49116355180740356;error:10.308935014185366%\n",
      "reality:0.9381301008161306; forecast:0.9104605913162231;error:3.0390672329822195%\n",
      "reality:0.8461225734322594; forecast:0.8146350383758545;error:3.8652321067826705%\n",
      "reality:0.9381301008161306; forecast:0.9104605913162231;error:3.0390672329822195%\n",
      "reality:0.5281225756400311; forecast:0.49024319648742676;error:7.726650655023576%\n",
      "reality:0.9166305760069294; forecast:0.8717511892318726;error:5.148187616996708%\n",
      "reality:0.6731927710843374; forecast:0.6515802145004272;error:3.3169448830610406%\n",
      "8 errors more than 3% in 1000 samples\n"
     ]
    }
   ],
   "source": [
    "import random\n",
    "#Test model\n",
    "test_sample=1000\n",
    "random_indexes=[random.randint(0,len(input_data)) for x in range(test_sample)]\n",
    "test_data = [input_data[x] for x in random_indexes]\n",
    "output=[output_data[x] for x in random_indexes] \n",
    "predicted_test=model.predict(np.array(test_data)).tolist()\n",
    "\n",
    "n=0\n",
    "for i in range(1,test_sample):\n",
    "    error=(output[i]/predicted_test[i][0])*100-100\n",
    "    if error>=3:\n",
    "        n+=1\n",
    "        print(f\"reality:{output[i]}; forecast:{predicted_test[i][0]};error:{error}%\")\n",
    "print(f'{n} errors more than 3% in {test_sample} samples')"
   ]
  },
  {
   "cell_type": "code",
   "execution_count": 8,
   "id": "e9d94f63",
   "metadata": {
    "execution": {
     "iopub.execute_input": "2022-01-26T11:57:51.898512Z",
     "iopub.status.busy": "2022-01-26T11:57:51.897743Z",
     "iopub.status.idle": "2022-01-26T11:57:53.853158Z",
     "shell.execute_reply": "2022-01-26T11:57:53.852690Z",
     "shell.execute_reply.started": "2022-01-25T19:00:42.895186Z"
    },
    "papermill": {
     "duration": 15.400198,
     "end_time": "2022-01-26T11:57:53.853272",
     "exception": false,
     "start_time": "2022-01-26T11:57:38.453074",
     "status": "completed"
    },
    "tags": []
   },
   "outputs": [
    {
     "name": "stdout",
     "output_type": "stream",
     "text": [
      "  adding: model_light_300/ (stored 0%)\r\n",
      "  adding: model_light_300/variables/ (stored 0%)\r\n",
      "  adding: model_light_300/variables/variables.index (deflated 60%)\r\n",
      "  adding: model_light_300/variables/variables.data-00000-of-00001 (deflated 15%)\r\n",
      "  adding: model_light_300/saved_model.pb (deflated 87%)\r\n",
      "  adding: model_light_300/assets/ (stored 0%)\r\n",
      "  adding: model_light_300/keras_metadata.pb (deflated 84%)\r\n"
     ]
    }
   ],
   "source": [
    "!zip -r model_ep_100.zip ./model_light_300"
   ]
  }
 ],
 "metadata": {
  "kernelspec": {
   "display_name": "Python 3",
   "language": "python",
   "name": "python3"
  },
  "language_info": {
   "codemirror_mode": {
    "name": "ipython",
    "version": 3
   },
   "file_extension": ".py",
   "mimetype": "text/x-python",
   "name": "python",
   "nbconvert_exporter": "python",
   "pygments_lexer": "ipython3",
   "version": "3.7.12"
  },
  "papermill": {
   "default_parameters": {},
   "duration": 2743.122625,
   "end_time": "2022-01-26T11:58:10.937250",
   "environment_variables": {},
   "exception": null,
   "input_path": "__notebook__.ipynb",
   "output_path": "__notebook__.ipynb",
   "parameters": {},
   "start_time": "2022-01-26T11:12:27.814625",
   "version": "2.3.3"
  }
 },
 "nbformat": 4,
 "nbformat_minor": 5
}
